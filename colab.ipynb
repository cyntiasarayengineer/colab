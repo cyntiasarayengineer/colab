{
  "cells": [
    {
      "cell_type": "markdown",
      "metadata": {
        "id": "view-in-github",
        "colab_type": "text"
      },
      "source": [
        "<a href=\"https://colab.research.google.com/github/cyntiasarayengineer/colab/blob/main/colab.ipynb\" target=\"_parent\"><img src=\"https://colab.research.google.com/assets/colab-badge.svg\" alt=\"Open In Colab\"/></a>"
      ]
    },
    {
      "cell_type": "markdown",
      "source": [
        "# NUMPAY - 2º Qual a diferença do array NUMPY para list in Python"
      ],
      "metadata": {
        "id": "gNqyc0oLaQiw"
      }
    },
    {
      "cell_type": "code",
      "source": [
        "num_elementos = 100000000\n",
        "lista_elementos = []\n",
        "for x in range(num_elementos):\n",
        "  lista_elementos.append(x)\n",
        "\n",
        "print(lista_elementos[-1])"
      ],
      "metadata": {
        "colab": {
          "base_uri": "https://localhost:8080/",
          "height": 235
        },
        "id": "9ArL1xh_aOtw",
        "outputId": "48423767-96b3-44ba-b8bf-75f22ba60ca7"
      },
      "execution_count": 17,
      "outputs": [
        {
          "output_type": "error",
          "ename": "KeyboardInterrupt",
          "evalue": "ignored",
          "traceback": [
            "\u001b[0;31m---------------------------------------------------------------------------\u001b[0m",
            "\u001b[0;31mKeyboardInterrupt\u001b[0m                         Traceback (most recent call last)",
            "\u001b[0;32m<ipython-input-17-9a6828119d53>\u001b[0m in \u001b[0;36m<cell line: 3>\u001b[0;34m()\u001b[0m\n\u001b[1;32m      2\u001b[0m \u001b[0mlista_elementos\u001b[0m \u001b[0;34m=\u001b[0m \u001b[0;34m[\u001b[0m\u001b[0;34m]\u001b[0m\u001b[0;34m\u001b[0m\u001b[0;34m\u001b[0m\u001b[0m\n\u001b[1;32m      3\u001b[0m \u001b[0;32mfor\u001b[0m \u001b[0mx\u001b[0m \u001b[0;32min\u001b[0m \u001b[0mrange\u001b[0m\u001b[0;34m(\u001b[0m\u001b[0mnum_elementos\u001b[0m\u001b[0;34m)\u001b[0m\u001b[0;34m:\u001b[0m\u001b[0;34m\u001b[0m\u001b[0;34m\u001b[0m\u001b[0m\n\u001b[0;32m----> 4\u001b[0;31m   \u001b[0mlista_elementos\u001b[0m\u001b[0;34m.\u001b[0m\u001b[0mappend\u001b[0m\u001b[0;34m(\u001b[0m\u001b[0mx\u001b[0m\u001b[0;34m)\u001b[0m\u001b[0;34m\u001b[0m\u001b[0;34m\u001b[0m\u001b[0m\n\u001b[0m\u001b[1;32m      5\u001b[0m \u001b[0;34m\u001b[0m\u001b[0m\n\u001b[1;32m      6\u001b[0m \u001b[0mprint\u001b[0m\u001b[0;34m(\u001b[0m\u001b[0mlista_elementos\u001b[0m\u001b[0;34m[\u001b[0m\u001b[0;34m-\u001b[0m\u001b[0;36m1\u001b[0m\u001b[0;34m]\u001b[0m\u001b[0;34m)\u001b[0m\u001b[0;34m\u001b[0m\u001b[0;34m\u001b[0m\u001b[0m\n",
            "\u001b[0;31mKeyboardInterrupt\u001b[0m: "
          ]
        }
      ]
    },
    {
      "cell_type": "code",
      "source": [
        "import numpy as np\n",
        "num_elementos = 100000000\n",
        "array_elementos = np.arange(num_elementos)\n",
        "print(array_elementos[-1])"
      ],
      "metadata": {
        "id": "7hnh_37hgroK"
      },
      "execution_count": null,
      "outputs": []
    },
    {
      "cell_type": "markdown",
      "source": [
        "# NUMPY - 3º Criação de arrays em numpy"
      ],
      "metadata": {
        "id": "j0IVmxhZiAWe"
      }
    },
    {
      "cell_type": "code",
      "source": [
        "import numpy as np\n",
        "array_teste = np.array([0, 1, 2, 3, 4, 5, 6, 7, 8, 9])\n",
        "print(f'Criação de array numpy utilizando o método array:\\n{array_teste}\\n')"
      ],
      "metadata": {
        "colab": {
          "base_uri": "https://localhost:8080/"
        },
        "id": "RlK57-uMiVCP",
        "outputId": "d85f4982-cec0-4731-826e-f92191fff79d"
      },
      "execution_count": 7,
      "outputs": [
        {
          "output_type": "stream",
          "name": "stdout",
          "text": [
            "Criação de array numpy utilizando o método array:\n",
            "[0 1 2 3 4 5 6 7 8 9]\n",
            "\n"
          ]
        }
      ]
    },
    {
      "cell_type": "code",
      "source": [
        "import numpy as np\n",
        "print(f'Criação de array numpy utilizando o método .array:\\n{np.array([0, 1, 2, 3,4, 5, 6, 7, 8, 9])}\\n')\n",
        "print(f'Criação de array numpy utilizando o método .ones:\\n{np.ones([100])}\\n')\n",
        "print(f'Criação de array numpy utilizando o método .zeros:\\n{np.zeros([12])}\\n')\n",
        "print(f'Criação de array numpy utilizando o método .arange:\\n{np.arange(101)}\\n')\n",
        "print(f'Criação de array numpy utilizando o método .linspace:\\n{np.linspace(0, 40, num = 41)}\\n')"
      ],
      "metadata": {
        "id": "PUlU01LRp9Dg"
      },
      "execution_count": null,
      "outputs": []
    },
    {
      "cell_type": "markdown",
      "source": [
        "# NUMPAY - 4º A importância de se definir o tipo de dado"
      ],
      "metadata": {
        "id": "KC8kfSImxRkV"
      }
    },
    {
      "cell_type": "code",
      "source": [
        "import numpy as np\n",
        "num_elementos = 100000000\n",
        "array_performance = np.zeros(num_elementos)"
      ],
      "metadata": {
        "id": "yyINma7hxadX"
      },
      "execution_count": 16,
      "outputs": []
    }
  ],
  "metadata": {
    "colab": {
      "name": "Olá, este é o Colaboratory",
      "toc_visible": true,
      "provenance": [],
      "include_colab_link": true
    },
    "kernelspec": {
      "display_name": "Python 3",
      "name": "python3"
    }
  },
  "nbformat": 4,
  "nbformat_minor": 0
}